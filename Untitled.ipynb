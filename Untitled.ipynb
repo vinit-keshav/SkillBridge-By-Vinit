{
 "cells": [
  {
   "cell_type": "code",
   "execution_count": 1,
   "id": "ca1f1f48-db17-4d20-98b6-03284e8372c4",
   "metadata": {},
   "outputs": [],
   "source": [
    "import pandas as pd\n",
    "\n",
    "# Load Employment.csv\n",
    "employment_data = pd.read_csv('Employment.csv')\n",
    "\n",
    "# Load Skills.csv\n",
    "skills_data = pd.read_csv('Skills.csv')\n"
   ]
  },
  {
   "cell_type": "code",
   "execution_count": 2,
   "id": "5888eb93-b92e-4796-91f4-d134b2ed1686",
   "metadata": {},
   "outputs": [
    {
     "name": "stderr",
     "output_type": "stream",
     "text": [
      "2024-07-01 14:23:57.044 \n",
      "  \u001b[33m\u001b[1mWarning:\u001b[0m to view this Streamlit app on a browser, run it with the following\n",
      "  command:\n",
      "\n",
      "    streamlit run C:\\Users\\vinit\\AppData\\Local\\Programs\\Python\\Python312\\Lib\\site-packages\\ipykernel_launcher.py [ARGUMENTS]\n",
      "2024-07-01 14:23:57.055 Session state does not function when running a script without `streamlit run`\n"
     ]
    }
   ],
   "source": [
    "import streamlit as st\n",
    "\n",
    "# App title\n",
    "st.title('Employment Chances Analysis')\n",
    "\n",
    "# User input fields\n",
    "state = st.selectbox('Select State/UT:', employment_data['State/UT'].unique())\n",
    "gender = st.radio('Select Gender:', ('Male', 'Female'))\n",
    "\n",
    "# Skills input (you can use text input or select from a list)\n",
    "skills_input = st.text_input('Enter Skills (comma-separated):')\n",
    "\n",
    "# Example of displaying data\n",
    "st.subheader(f'Employment Data for {state} - Gender: {gender}')\n",
    "st.write(employment_data.head())  # Displaying the first few rows for illustration\n"
   ]
  },
  {
   "cell_type": "code",
   "execution_count": null,
   "id": "3f468b69-0adc-4474-90c5-c569ed171a2b",
   "metadata": {},
   "outputs": [],
   "source": []
  }
 ],
 "metadata": {
  "kernelspec": {
   "display_name": "Python 3 (ipykernel)",
   "language": "python",
   "name": "python3"
  },
  "language_info": {
   "codemirror_mode": {
    "name": "ipython",
    "version": 3
   },
   "file_extension": ".py",
   "mimetype": "text/x-python",
   "name": "python",
   "nbconvert_exporter": "python",
   "pygments_lexer": "ipython3",
   "version": "3.12.3"
  }
 },
 "nbformat": 4,
 "nbformat_minor": 5
}
